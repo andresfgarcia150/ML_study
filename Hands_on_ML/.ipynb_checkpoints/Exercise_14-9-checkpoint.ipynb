{
 "cells": [
  {
   "cell_type": "markdown",
   "metadata": {},
   "source": [
    "# Exercise 14.9\n",
    "## Hands-on Machine Learning with Scikit-Learn, Keras and Tensorflow, 2nd Ed\n",
    "\n",
    "__Andrés Felipe García Albarracín <br>\n",
    "Feb 8, 2021__ <br>\n",
    "\n",
    "Build your own CNN from scratch and try to achieve the highest possible accuracy on MNIST."
   ]
  },
  {
   "cell_type": "markdown",
   "metadata": {},
   "source": [
    "## 1. Libraries"
   ]
  },
  {
   "cell_type": "code",
   "execution_count": 1,
   "metadata": {},
   "outputs": [],
   "source": [
    "import numpy as np\n",
    "import time\n",
    "import pandas as pd"
   ]
  },
  {
   "cell_type": "code",
   "execution_count": 2,
   "metadata": {},
   "outputs": [
    {
     "data": {
      "text/plain": [
       "[PhysicalDevice(name='/physical_device:GPU:0', device_type='GPU')]"
      ]
     },
     "execution_count": 2,
     "metadata": {},
     "output_type": "execute_result"
    }
   ],
   "source": [
    "import tensorflow as tf\n",
    "tf.config.experimental.list_physical_devices(device_type='GPU')"
   ]
  },
  {
   "cell_type": "markdown",
   "metadata": {},
   "source": [
    "## 2. Load input data"
   ]
  },
  {
   "cell_type": "code",
   "execution_count": 3,
   "metadata": {},
   "outputs": [],
   "source": [
    "(x_train, y_train), (x_test, y_test) = tf.keras.datasets.mnist.load_data()"
   ]
  },
  {
   "cell_type": "code",
   "execution_count": 4,
   "metadata": {},
   "outputs": [],
   "source": [
    "mitad = int(x_test.shape[0]/2)\n",
    "x_val = x_test[0:mitad,:,:]\n",
    "x_test = x_test[mitad:,:,:]\n",
    "y_val = y_test[0:mitad]\n",
    "y_test = y_test[mitad:]"
   ]
  },
  {
   "cell_type": "code",
   "execution_count": 5,
   "metadata": {},
   "outputs": [
    {
     "data": {
      "text/plain": [
       "(28, 28)"
      ]
     },
     "execution_count": 5,
     "metadata": {},
     "output_type": "execute_result"
    }
   ],
   "source": [
    "x_test.shape[1:]"
   ]
  },
  {
   "cell_type": "code",
   "execution_count": 6,
   "metadata": {},
   "outputs": [],
   "source": [
    "colResults = [\"Model_name\", \"Description\", \"Loss\", \"Accuracy\"]\n",
    "dfResults = pd.DataFrame(columns=colResults)"
   ]
  },
  {
   "cell_type": "markdown",
   "metadata": {},
   "source": [
    "## 3. Model proposals"
   ]
  },
  {
   "cell_type": "markdown",
   "metadata": {},
   "source": [
    "### a) A model very similar to LeNet-5"
   ]
  },
  {
   "cell_type": "code",
   "execution_count": 7,
   "metadata": {},
   "outputs": [],
   "source": [
    "inputs = tf.keras.Input(shape = (28,28,1))\n",
    "x = tf.keras.layers.Conv2D(filters = 8, kernel_size = 5, strides = 2, padding = \"same\", activation = \"relu\")(inputs)\n",
    "x = tf.keras.layers.AveragePooling2D(pool_size = 2, strides = 2, padding = \"valid\")(x)\n",
    "x = tf.keras.layers.Conv2D(filters = 16, kernel_size = 3, strides = 1, padding = \"same\", activation = \"relu\")(x)\n",
    "x = tf.keras.layers.AveragePooling2D(pool_size = 3, strides = 2, padding = \"valid\")(x)\n",
    "x = tf.keras.layers.Conv2D(filters = 64, kernel_size = 2, strides = 1, padding = \"same\", activation = \"relu\")(x)\n",
    "x = tf.keras.layers.Conv2D(filters = 128, kernel_size = 3, strides = 1, padding = \"valid\", activation = \"relu\")(x)\n",
    "x = tf.keras.layers.Conv2D(filters = 32, kernel_size = 1, strides = 1, padding = \"valid\", activation = \"relu\")(x)\n",
    "x = tf.keras.layers.Flatten()(x)\n",
    "outputs = tf.keras.layers.Dense(units = 10, activation = \"softmax\")(x)"
   ]
  },
  {
   "cell_type": "code",
   "execution_count": 8,
   "metadata": {},
   "outputs": [],
   "source": [
    "model = tf.keras.Model(inputs = inputs, outputs = outputs)"
   ]
  },
  {
   "cell_type": "code",
   "execution_count": 9,
   "metadata": {},
   "outputs": [
    {
     "name": "stdout",
     "output_type": "stream",
     "text": [
      "Model: \"functional_1\"\n",
      "_________________________________________________________________\n",
      "Layer (type)                 Output Shape              Param #   \n",
      "=================================================================\n",
      "input_1 (InputLayer)         [(None, 28, 28, 1)]       0         \n",
      "_________________________________________________________________\n",
      "conv2d (Conv2D)              (None, 14, 14, 8)         208       \n",
      "_________________________________________________________________\n",
      "average_pooling2d (AveragePo (None, 7, 7, 8)           0         \n",
      "_________________________________________________________________\n",
      "conv2d_1 (Conv2D)            (None, 7, 7, 16)          1168      \n",
      "_________________________________________________________________\n",
      "average_pooling2d_1 (Average (None, 3, 3, 16)          0         \n",
      "_________________________________________________________________\n",
      "conv2d_2 (Conv2D)            (None, 3, 3, 64)          4160      \n",
      "_________________________________________________________________\n",
      "conv2d_3 (Conv2D)            (None, 1, 1, 128)         73856     \n",
      "_________________________________________________________________\n",
      "conv2d_4 (Conv2D)            (None, 1, 1, 32)          4128      \n",
      "_________________________________________________________________\n",
      "flatten (Flatten)            (None, 32)                0         \n",
      "_________________________________________________________________\n",
      "dense (Dense)                (None, 10)                330       \n",
      "=================================================================\n",
      "Total params: 83,850\n",
      "Trainable params: 83,850\n",
      "Non-trainable params: 0\n",
      "_________________________________________________________________\n",
      "None\n"
     ]
    }
   ],
   "source": [
    "print(model.summary())"
   ]
  },
  {
   "cell_type": "code",
   "execution_count": 10,
   "metadata": {},
   "outputs": [],
   "source": [
    "model.compile(\n",
    "    loss = \"sparse_categorical_crossentropy\",\n",
    "    metrics = ['accuracy'])"
   ]
  },
  {
   "cell_type": "markdown",
   "metadata": {},
   "source": [
    "__Model training__"
   ]
  },
  {
   "cell_type": "code",
   "execution_count": 11,
   "metadata": {},
   "outputs": [
    {
     "name": "stdout",
     "output_type": "stream",
     "text": [
      "Epoch 1/100\n",
      "   1/1875 [..............................] - ETA: 0s - loss: 6.4056 - accuracy: 0.0625WARNING:tensorflow:From /home/data/.local/lib/python3.8/site-packages/tensorflow/python/ops/summary_ops_v2.py:1277: stop (from tensorflow.python.eager.profiler) is deprecated and will be removed after 2020-07-01.\n",
      "Instructions for updating:\n",
      "use `tf.profiler.experimental.stop` instead.\n",
      "   2/1875 [..............................] - ETA: 4:05 - loss: 4.8570 - accuracy: 0.1094WARNING:tensorflow:Callbacks method `on_train_batch_end` is slow compared to the batch time (batch time: 0.0555s vs `on_train_batch_end` time: 0.2063s). Check your callbacks.\n",
      "1875/1875 [==============================] - 5s 3ms/step - loss: 0.2635 - accuracy: 0.9186 - val_loss: 0.0977 - val_accuracy: 0.9698\n",
      "Epoch 2/100\n",
      "1875/1875 [==============================] - 4s 2ms/step - loss: 0.0937 - accuracy: 0.9718 - val_loss: 0.1167 - val_accuracy: 0.9640\n",
      "Epoch 3/100\n",
      "1875/1875 [==============================] - 5s 2ms/step - loss: 0.0772 - accuracy: 0.9779 - val_loss: 0.1148 - val_accuracy: 0.9686\n",
      "Epoch 4/100\n",
      "1875/1875 [==============================] - 5s 3ms/step - loss: 0.0728 - accuracy: 0.9807 - val_loss: 0.0939 - val_accuracy: 0.9730\n",
      "Epoch 5/100\n",
      "1875/1875 [==============================] - 4s 2ms/step - loss: 0.0718 - accuracy: 0.9811 - val_loss: 0.0980 - val_accuracy: 0.9780\n",
      "Epoch 6/100\n",
      "1875/1875 [==============================] - 5s 2ms/step - loss: 0.0702 - accuracy: 0.9815 - val_loss: 0.0920 - val_accuracy: 0.9772\n",
      "Epoch 7/100\n",
      "1875/1875 [==============================] - 5s 2ms/step - loss: 0.0760 - accuracy: 0.9812 - val_loss: 0.0946 - val_accuracy: 0.9768\n",
      "Epoch 8/100\n",
      "1875/1875 [==============================] - 5s 2ms/step - loss: 0.0780 - accuracy: 0.9812 - val_loss: 0.1291 - val_accuracy: 0.9760\n",
      "Epoch 9/100\n",
      "1875/1875 [==============================] - 5s 2ms/step - loss: 0.0809 - accuracy: 0.9812 - val_loss: 0.1404 - val_accuracy: 0.9794\n",
      "Epoch 10/100\n",
      "1875/1875 [==============================] - 5s 2ms/step - loss: 0.0873 - accuracy: 0.9807 - val_loss: 0.1402 - val_accuracy: 0.9708\n",
      "Epoch 11/100\n",
      "1875/1875 [==============================] - 5s 2ms/step - loss: 0.0875 - accuracy: 0.9802 - val_loss: 0.1121 - val_accuracy: 0.9798\n",
      "Epoch 12/100\n",
      "1875/1875 [==============================] - 4s 2ms/step - loss: 0.0938 - accuracy: 0.9794 - val_loss: 0.1440 - val_accuracy: 0.9726\n",
      "Epoch 13/100\n",
      "1875/1875 [==============================] - 4s 2ms/step - loss: 0.0956 - accuracy: 0.9801 - val_loss: 0.2173 - val_accuracy: 0.9694\n",
      "Epoch 14/100\n",
      "1875/1875 [==============================] - 5s 3ms/step - loss: 0.0989 - accuracy: 0.9785 - val_loss: 0.1158 - val_accuracy: 0.9774\n",
      "Epoch 15/100\n",
      "1875/1875 [==============================] - 5s 3ms/step - loss: 0.1031 - accuracy: 0.9796 - val_loss: 0.1754 - val_accuracy: 0.9692\n",
      "Epoch 16/100\n",
      "1875/1875 [==============================] - 4s 2ms/step - loss: 0.1055 - accuracy: 0.9787 - val_loss: 0.1459 - val_accuracy: 0.9666\n"
     ]
    },
    {
     "data": {
      "text/plain": [
       "<tensorflow.python.keras.callbacks.History at 0x7fb52005bc10>"
      ]
     },
     "execution_count": 11,
     "metadata": {},
     "output_type": "execute_result"
    }
   ],
   "source": [
    "# =========================\n",
    "# Training Parameters\n",
    "# =========================\n",
    "epochs = 100\n",
    "patience = 10\n",
    "# =========================\n",
    "# Callbacks\n",
    "# =========================\n",
    "tb_cb = tf.keras.callbacks.TensorBoard(\"./Results_tensorboard/Ex_14_9/\" + time.strftime(\"model_A_%Y_%m_%d_%H_%M_%S\"))\n",
    "es_cb = tf.keras.callbacks.EarlyStopping(patience= patience, restore_best_weights=True)\n",
    "# =========================\n",
    "# Training\n",
    "# =========================\n",
    "model.fit(\n",
    "    x= x_train,\n",
    "    y= y_train,\n",
    "    epochs= epochs,\n",
    "    callbacks= [tb_cb, es_cb],\n",
    "    validation_data= (x_val, y_val))"
   ]
  },
  {
   "cell_type": "code",
   "execution_count": 12,
   "metadata": {},
   "outputs": [
    {
     "name": "stdout",
     "output_type": "stream",
     "text": [
      "157/157 [==============================] - 0s 1ms/step - loss: 0.0496 - accuracy: 0.9882\n",
      "[0.04961315169930458, 0.9882000088691711]\n"
     ]
    }
   ],
   "source": [
    "resultAct = model.evaluate(x = x_test, y = y_test)\n",
    "print(resultAct)"
   ]
  },
  {
   "cell_type": "code",
   "execution_count": 13,
   "metadata": {},
   "outputs": [
    {
     "data": {
      "text/html": [
       "<div>\n",
       "<style scoped>\n",
       "    .dataframe tbody tr th:only-of-type {\n",
       "        vertical-align: middle;\n",
       "    }\n",
       "\n",
       "    .dataframe tbody tr th {\n",
       "        vertical-align: top;\n",
       "    }\n",
       "\n",
       "    .dataframe thead th {\n",
       "        text-align: right;\n",
       "    }\n",
       "</style>\n",
       "<table border=\"1\" class=\"dataframe\">\n",
       "  <thead>\n",
       "    <tr style=\"text-align: right;\">\n",
       "      <th></th>\n",
       "      <th>Model_name</th>\n",
       "      <th>Description</th>\n",
       "      <th>Loss</th>\n",
       "      <th>Accuracy</th>\n",
       "    </tr>\n",
       "  </thead>\n",
       "  <tbody>\n",
       "    <tr>\n",
       "      <th>0</th>\n",
       "      <td>A</td>\n",
       "      <td>Similar to LeNet</td>\n",
       "      <td>0.049613</td>\n",
       "      <td>0.9882</td>\n",
       "    </tr>\n",
       "  </tbody>\n",
       "</table>\n",
       "</div>"
      ],
      "text/plain": [
       "  Model_name       Description      Loss  Accuracy\n",
       "0          A  Similar to LeNet  0.049613    0.9882"
      ]
     },
     "execution_count": 13,
     "metadata": {},
     "output_type": "execute_result"
    }
   ],
   "source": [
    "resultAct.insert(0,'A')\n",
    "resultAct.insert(1,'Similar to LeNet')\n",
    "dfResults = dfResults.append(\n",
    "    pd.DataFrame(columns = colResults, data=[resultAct]),\n",
    "    ignore_index=True)\n",
    "dfResults"
   ]
  },
  {
   "cell_type": "markdown",
   "metadata": {},
   "source": [
    "### b) Similar to LeNet and incluiding dropout "
   ]
  },
  {
   "cell_type": "code",
   "execution_count": 14,
   "metadata": {},
   "outputs": [],
   "source": [
    "inputs = tf.keras.Input(shape = (28,28,1))\n",
    "x = tf.keras.layers.Conv2D(filters = 8, kernel_size = 5, strides = 2, padding = \"same\", activation = \"relu\")(inputs)\n",
    "x = tf.keras.layers.AveragePooling2D(pool_size = 2, strides = 2, padding = \"valid\")(x)\n",
    "x = tf.keras.layers.Conv2D(filters = 16, kernel_size = 3, strides = 1, padding = \"same\", activation = \"relu\")(x)\n",
    "x = tf.keras.layers.AveragePooling2D(pool_size = 3, strides = 2, padding = \"valid\")(x)\n",
    "x = tf.keras.layers.Conv2D(filters = 64, kernel_size = 2, strides = 1, padding = \"same\", activation = \"relu\")(x)\n",
    "x = tf.keras.layers.Conv2D(filters = 128, kernel_size = 3, strides = 1, padding = \"valid\", activation = \"relu\")(x)\n",
    "x = tf.keras.layers.Dropout(0.45)(x)\n",
    "x = tf.keras.layers.Conv2D(filters = 32, kernel_size = 1, strides = 1, padding = \"valid\", activation = \"relu\")(x)\n",
    "x = tf.keras.layers.Dropout(0.45)(x)\n",
    "x = tf.keras.layers.Flatten()(x)\n",
    "outputs = tf.keras.layers.Dense(units = 10, activation = \"softmax\")(x)"
   ]
  },
  {
   "cell_type": "code",
   "execution_count": 15,
   "metadata": {},
   "outputs": [
    {
     "name": "stdout",
     "output_type": "stream",
     "text": [
      "Model: \"functional_3\"\n",
      "_________________________________________________________________\n",
      "Layer (type)                 Output Shape              Param #   \n",
      "=================================================================\n",
      "input_2 (InputLayer)         [(None, 28, 28, 1)]       0         \n",
      "_________________________________________________________________\n",
      "conv2d_5 (Conv2D)            (None, 14, 14, 8)         208       \n",
      "_________________________________________________________________\n",
      "average_pooling2d_2 (Average (None, 7, 7, 8)           0         \n",
      "_________________________________________________________________\n",
      "conv2d_6 (Conv2D)            (None, 7, 7, 16)          1168      \n",
      "_________________________________________________________________\n",
      "average_pooling2d_3 (Average (None, 3, 3, 16)          0         \n",
      "_________________________________________________________________\n",
      "conv2d_7 (Conv2D)            (None, 3, 3, 64)          4160      \n",
      "_________________________________________________________________\n",
      "conv2d_8 (Conv2D)            (None, 1, 1, 128)         73856     \n",
      "_________________________________________________________________\n",
      "dropout (Dropout)            (None, 1, 1, 128)         0         \n",
      "_________________________________________________________________\n",
      "conv2d_9 (Conv2D)            (None, 1, 1, 32)          4128      \n",
      "_________________________________________________________________\n",
      "dropout_1 (Dropout)          (None, 1, 1, 32)          0         \n",
      "_________________________________________________________________\n",
      "flatten_1 (Flatten)          (None, 32)                0         \n",
      "_________________________________________________________________\n",
      "dense_1 (Dense)              (None, 10)                330       \n",
      "=================================================================\n",
      "Total params: 83,850\n",
      "Trainable params: 83,850\n",
      "Non-trainable params: 0\n",
      "_________________________________________________________________\n",
      "None\n"
     ]
    }
   ],
   "source": [
    "model = tf.keras.Model(inputs = inputs, outputs = outputs)\n",
    "print(model.summary())"
   ]
  },
  {
   "cell_type": "code",
   "execution_count": 16,
   "metadata": {},
   "outputs": [
    {
     "name": "stdout",
     "output_type": "stream",
     "text": [
      "Epoch 1/100\n",
      "   2/1875 [..............................] - ETA: 1:07 - loss: 6.8238 - accuracy: 0.0781WARNING:tensorflow:Callbacks method `on_train_batch_end` is slow compared to the batch time (batch time: 0.0080s vs `on_train_batch_end` time: 0.0625s). Check your callbacks.\n",
      "1875/1875 [==============================] - 5s 3ms/step - loss: 0.6145 - accuracy: 0.8048 - val_loss: 0.1573 - val_accuracy: 0.9562\n",
      "Epoch 2/100\n",
      "1875/1875 [==============================] - 5s 3ms/step - loss: 0.2604 - accuracy: 0.9370 - val_loss: 0.1661 - val_accuracy: 0.9626\n",
      "Epoch 3/100\n",
      "1875/1875 [==============================] - 5s 3ms/step - loss: 0.2570 - accuracy: 0.9417 - val_loss: 0.2032 - val_accuracy: 0.9576\n",
      "Epoch 4/100\n",
      "1875/1875 [==============================] - 5s 3ms/step - loss: 0.2789 - accuracy: 0.9420 - val_loss: 0.1907 - val_accuracy: 0.9562\n",
      "Epoch 5/100\n",
      "1875/1875 [==============================] - 5s 3ms/step - loss: 0.3020 - accuracy: 0.9373 - val_loss: 0.1906 - val_accuracy: 0.9600\n",
      "Epoch 6/100\n",
      "1875/1875 [==============================] - 5s 3ms/step - loss: 0.3107 - accuracy: 0.9368 - val_loss: 0.2590 - val_accuracy: 0.9600\n",
      "Epoch 7/100\n",
      "1875/1875 [==============================] - 5s 3ms/step - loss: 0.3407 - accuracy: 0.9337 - val_loss: 0.3859 - val_accuracy: 0.9536\n",
      "Epoch 8/100\n",
      "1875/1875 [==============================] - 5s 3ms/step - loss: 0.3629 - accuracy: 0.9294 - val_loss: 0.2829 - val_accuracy: 0.9480\n",
      "Epoch 9/100\n",
      "1875/1875 [==============================] - 5s 3ms/step - loss: 0.3863 - accuracy: 0.9253 - val_loss: 0.2415 - val_accuracy: 0.9470\n",
      "Epoch 10/100\n",
      "1875/1875 [==============================] - 5s 3ms/step - loss: 0.3877 - accuracy: 0.9247 - val_loss: 0.2659 - val_accuracy: 0.9400\n",
      "Epoch 11/100\n",
      "1875/1875 [==============================] - 5s 3ms/step - loss: 0.4137 - accuracy: 0.9202 - val_loss: 0.3037 - val_accuracy: 0.9132\n"
     ]
    },
    {
     "data": {
      "text/plain": [
       "<tensorflow.python.keras.callbacks.History at 0x7fb555d34af0>"
      ]
     },
     "execution_count": 16,
     "metadata": {},
     "output_type": "execute_result"
    }
   ],
   "source": [
    "# =========================\n",
    "# Compile model\n",
    "# =========================\n",
    "model.compile(\n",
    "    loss = \"sparse_categorical_crossentropy\",\n",
    "    metrics = ['accuracy'])\n",
    "# =========================\n",
    "# Training Parameters\n",
    "# =========================\n",
    "epochs = 100\n",
    "patience = 10\n",
    "# =========================\n",
    "# Callbacks\n",
    "# =========================\n",
    "tb_cb = tf.keras.callbacks.TensorBoard(\"./Results_tensorboard/Ex_14_9/\" + time.strftime(\"model_B_%Y_%m_%d_%H_%M_%S\"))\n",
    "es_cb = tf.keras.callbacks.EarlyStopping(patience= patience, restore_best_weights=True)\n",
    "# =========================\n",
    "# Training\n",
    "# =========================\n",
    "model.fit(\n",
    "    x= x_train,\n",
    "    y= y_train,\n",
    "    epochs= epochs,\n",
    "    callbacks= [tb_cb, es_cb],\n",
    "    validation_data= (x_val, y_val))"
   ]
  },
  {
   "cell_type": "code",
   "execution_count": 17,
   "metadata": {},
   "outputs": [
    {
     "name": "stdout",
     "output_type": "stream",
     "text": [
      "1875/1875 [==============================] - 3s 1ms/step - loss: 0.1278 - accuracy: 0.9653\n",
      "[0.12778420746326447, 0.9652500152587891]\n",
      "157/157 [==============================] - 0s 1ms/step - loss: 0.1573 - accuracy: 0.9562\n",
      "[0.1573275476694107, 0.9562000036239624]\n"
     ]
    }
   ],
   "source": [
    "print(model.evaluate(x = x_train, y = y_train))\n",
    "print(model.evaluate(x = x_val, y = y_val))"
   ]
  },
  {
   "cell_type": "code",
   "execution_count": 18,
   "metadata": {},
   "outputs": [
    {
     "name": "stdout",
     "output_type": "stream",
     "text": [
      "157/157 [==============================] - 0s 1ms/step - loss: 0.0768 - accuracy: 0.9776\n",
      "[0.07679233700037003, 0.9775999784469604]\n"
     ]
    }
   ],
   "source": [
    "resultAct = model.evaluate(x = x_test, y = y_test)\n",
    "print(resultAct)"
   ]
  },
  {
   "cell_type": "code",
   "execution_count": 19,
   "metadata": {},
   "outputs": [
    {
     "data": {
      "text/html": [
       "<div>\n",
       "<style scoped>\n",
       "    .dataframe tbody tr th:only-of-type {\n",
       "        vertical-align: middle;\n",
       "    }\n",
       "\n",
       "    .dataframe tbody tr th {\n",
       "        vertical-align: top;\n",
       "    }\n",
       "\n",
       "    .dataframe thead th {\n",
       "        text-align: right;\n",
       "    }\n",
       "</style>\n",
       "<table border=\"1\" class=\"dataframe\">\n",
       "  <thead>\n",
       "    <tr style=\"text-align: right;\">\n",
       "      <th></th>\n",
       "      <th>Model_name</th>\n",
       "      <th>Description</th>\n",
       "      <th>Loss</th>\n",
       "      <th>Accuracy</th>\n",
       "    </tr>\n",
       "  </thead>\n",
       "  <tbody>\n",
       "    <tr>\n",
       "      <th>0</th>\n",
       "      <td>A</td>\n",
       "      <td>Similar to LeNet</td>\n",
       "      <td>0.049613</td>\n",
       "      <td>0.9882</td>\n",
       "    </tr>\n",
       "    <tr>\n",
       "      <th>1</th>\n",
       "      <td>B</td>\n",
       "      <td>Similar to LeNet including dropout at the fina...</td>\n",
       "      <td>0.076792</td>\n",
       "      <td>0.9776</td>\n",
       "    </tr>\n",
       "  </tbody>\n",
       "</table>\n",
       "</div>"
      ],
      "text/plain": [
       "  Model_name                                        Description      Loss  \\\n",
       "0          A                                   Similar to LeNet  0.049613   \n",
       "1          B  Similar to LeNet including dropout at the fina...  0.076792   \n",
       "\n",
       "   Accuracy  \n",
       "0    0.9882  \n",
       "1    0.9776  "
      ]
     },
     "execution_count": 19,
     "metadata": {},
     "output_type": "execute_result"
    }
   ],
   "source": [
    "resultAct.insert(0,'B')\n",
    "resultAct.insert(1,'Similar to LeNet including dropout at the final layers')\n",
    "dfResults = dfResults.append(\n",
    "    pd.DataFrame(columns = colResults, data=[resultAct]),\n",
    "    ignore_index=True)\n",
    "dfResults"
   ]
  },
  {
   "cell_type": "markdown",
   "metadata": {},
   "source": [
    "### c) Local response normalization\n",
    "Including some local response normalization layers at the beggining"
   ]
  },
  {
   "cell_type": "code",
   "execution_count": 20,
   "metadata": {},
   "outputs": [],
   "source": [
    "inputs = tf.keras.Input(shape = (28,28,1))\n",
    "x = tf.keras.layers.Conv2D(filters = 8, kernel_size = 5, strides = 2, padding = \"same\", activation = \"relu\")(inputs)\n",
    "x = tf.keras.layers.AveragePooling2D(pool_size = 2, strides = 2, padding = \"valid\")(x)\n",
    "x = tf.keras.layers.Lambda(lambda x: tf.nn.local_response_normalization(x, depth_radius=2, bias=1, alpha=0.00002, beta=0.75))(x)\n",
    "x = tf.keras.layers.Conv2D(filters = 16, kernel_size = 3, strides = 1, padding = \"same\", activation = \"relu\")(x)\n",
    "x = tf.keras.layers.AveragePooling2D(pool_size = 3, strides = 2, padding = \"valid\")(x)\n",
    "x = tf.keras.layers.Lambda(lambda x: tf.nn.local_response_normalization(x, depth_radius=2, bias=1, alpha=0.00002, beta=0.75))(x)\n",
    "x = tf.keras.layers.Conv2D(filters = 64, kernel_size = 2, strides = 1, padding = \"same\", activation = \"relu\")(x)\n",
    "x = tf.keras.layers.Conv2D(filters = 128, kernel_size = 3, strides = 1, padding = \"valid\", activation = \"relu\")(x)\n",
    "x = tf.keras.layers.Conv2D(filters = 32, kernel_size = 1, strides = 1, padding = \"valid\", activation = \"relu\")(x)\n",
    "x = tf.keras.layers.Flatten()(x)\n",
    "outputs = tf.keras.layers.Dense(units = 10, activation = \"softmax\")(x)"
   ]
  },
  {
   "cell_type": "code",
   "execution_count": 21,
   "metadata": {},
   "outputs": [
    {
     "name": "stdout",
     "output_type": "stream",
     "text": [
      "Model: \"functional_5\"\n",
      "_________________________________________________________________\n",
      "Layer (type)                 Output Shape              Param #   \n",
      "=================================================================\n",
      "input_3 (InputLayer)         [(None, 28, 28, 1)]       0         \n",
      "_________________________________________________________________\n",
      "conv2d_10 (Conv2D)           (None, 14, 14, 8)         208       \n",
      "_________________________________________________________________\n",
      "average_pooling2d_4 (Average (None, 7, 7, 8)           0         \n",
      "_________________________________________________________________\n",
      "lambda (Lambda)              (None, 7, 7, 8)           0         \n",
      "_________________________________________________________________\n",
      "conv2d_11 (Conv2D)           (None, 7, 7, 16)          1168      \n",
      "_________________________________________________________________\n",
      "average_pooling2d_5 (Average (None, 3, 3, 16)          0         \n",
      "_________________________________________________________________\n",
      "lambda_1 (Lambda)            (None, 3, 3, 16)          0         \n",
      "_________________________________________________________________\n",
      "conv2d_12 (Conv2D)           (None, 3, 3, 64)          4160      \n",
      "_________________________________________________________________\n",
      "conv2d_13 (Conv2D)           (None, 1, 1, 128)         73856     \n",
      "_________________________________________________________________\n",
      "conv2d_14 (Conv2D)           (None, 1, 1, 32)          4128      \n",
      "_________________________________________________________________\n",
      "flatten_2 (Flatten)          (None, 32)                0         \n",
      "_________________________________________________________________\n",
      "dense_2 (Dense)              (None, 10)                330       \n",
      "=================================================================\n",
      "Total params: 83,850\n",
      "Trainable params: 83,850\n",
      "Non-trainable params: 0\n",
      "_________________________________________________________________\n",
      "None\n"
     ]
    }
   ],
   "source": [
    "model = tf.keras.Model(inputs = inputs, outputs = outputs)\n",
    "print(model.summary())"
   ]
  },
  {
   "cell_type": "code",
   "execution_count": 22,
   "metadata": {},
   "outputs": [
    {
     "name": "stdout",
     "output_type": "stream",
     "text": [
      "Epoch 1/100\n",
      "   2/1875 [..............................] - ETA: 1:04 - loss: 5.7524 - accuracy: 0.0781WARNING:tensorflow:Callbacks method `on_train_batch_end` is slow compared to the batch time (batch time: 0.0034s vs `on_train_batch_end` time: 0.0652s). Check your callbacks.\n",
      "1875/1875 [==============================] - 5s 3ms/step - loss: 0.2529 - accuracy: 0.9216 - val_loss: 0.1014 - val_accuracy: 0.9698\n",
      "Epoch 2/100\n",
      "1875/1875 [==============================] - 5s 2ms/step - loss: 0.0902 - accuracy: 0.9741 - val_loss: 0.1314 - val_accuracy: 0.9630\n",
      "Epoch 3/100\n",
      "1875/1875 [==============================] - 5s 2ms/step - loss: 0.0784 - accuracy: 0.9788 - val_loss: 0.0900 - val_accuracy: 0.9766\n",
      "Epoch 4/100\n",
      "1875/1875 [==============================] - 5s 2ms/step - loss: 0.0739 - accuracy: 0.9800 - val_loss: 0.0811 - val_accuracy: 0.9832\n",
      "Epoch 5/100\n",
      "1875/1875 [==============================] - 5s 2ms/step - loss: 0.0788 - accuracy: 0.9802 - val_loss: 0.1357 - val_accuracy: 0.9670\n",
      "Epoch 6/100\n",
      "1875/1875 [==============================] - 5s 2ms/step - loss: 0.0720 - accuracy: 0.9814 - val_loss: 0.1569 - val_accuracy: 0.9762\n",
      "Epoch 7/100\n",
      "1875/1875 [==============================] - 5s 2ms/step - loss: 0.0762 - accuracy: 0.9819 - val_loss: 0.0775 - val_accuracy: 0.9784\n",
      "Epoch 8/100\n",
      "1875/1875 [==============================] - 5s 2ms/step - loss: 0.0792 - accuracy: 0.9812 - val_loss: 0.1475 - val_accuracy: 0.9732\n",
      "Epoch 9/100\n",
      "1875/1875 [==============================] - 5s 2ms/step - loss: 0.0863 - accuracy: 0.9802 - val_loss: 0.1066 - val_accuracy: 0.9794\n",
      "Epoch 10/100\n",
      "1875/1875 [==============================] - 5s 2ms/step - loss: 0.0894 - accuracy: 0.9803 - val_loss: 0.1396 - val_accuracy: 0.9740\n",
      "Epoch 11/100\n",
      "1875/1875 [==============================] - 5s 2ms/step - loss: 0.0956 - accuracy: 0.9799 - val_loss: 0.3615 - val_accuracy: 0.9756\n",
      "Epoch 12/100\n",
      "1875/1875 [==============================] - 5s 3ms/step - loss: 0.0976 - accuracy: 0.9798 - val_loss: 0.0928 - val_accuracy: 0.9740\n",
      "Epoch 13/100\n",
      "1875/1875 [==============================] - 5s 2ms/step - loss: 0.1001 - accuracy: 0.9785 - val_loss: 0.1298 - val_accuracy: 0.9736\n",
      "Epoch 14/100\n",
      "1875/1875 [==============================] - 5s 2ms/step - loss: 0.1038 - accuracy: 0.9789 - val_loss: 0.2968 - val_accuracy: 0.9634\n",
      "Epoch 15/100\n",
      "1875/1875 [==============================] - 5s 3ms/step - loss: 0.1058 - accuracy: 0.9791 - val_loss: 0.1664 - val_accuracy: 0.9670\n",
      "Epoch 16/100\n",
      "1875/1875 [==============================] - 5s 2ms/step - loss: 0.1082 - accuracy: 0.9784 - val_loss: 0.1294 - val_accuracy: 0.9742\n",
      "Epoch 17/100\n",
      "1875/1875 [==============================] - 5s 2ms/step - loss: 0.1105 - accuracy: 0.9778 - val_loss: 0.1854 - val_accuracy: 0.9638\n"
     ]
    },
    {
     "data": {
      "text/plain": [
       "<tensorflow.python.keras.callbacks.History at 0x7fb555d45d00>"
      ]
     },
     "execution_count": 22,
     "metadata": {},
     "output_type": "execute_result"
    }
   ],
   "source": [
    "# =========================\n",
    "# Compile model\n",
    "# =========================\n",
    "model.compile(\n",
    "    loss = \"sparse_categorical_crossentropy\",\n",
    "    metrics = ['accuracy'])\n",
    "# =========================\n",
    "# Training Parameters\n",
    "# =========================\n",
    "epochs = 100\n",
    "patience = 10\n",
    "# =========================\n",
    "# Callbacks\n",
    "# =========================\n",
    "tb_cb = tf.keras.callbacks.TensorBoard(\"./Results_tensorboard/Ex_14_9/\" + time.strftime(\"model_C_%Y_%m_%d_%H_%M_%S\"))\n",
    "es_cb = tf.keras.callbacks.EarlyStopping(patience= patience, restore_best_weights=True)\n",
    "# =========================\n",
    "# Training\n",
    "# =========================\n",
    "model.fit(\n",
    "    x= x_train,\n",
    "    y= y_train,\n",
    "    epochs= epochs,\n",
    "    callbacks= [tb_cb, es_cb],\n",
    "    validation_data= (x_val, y_val))"
   ]
  },
  {
   "cell_type": "code",
   "execution_count": 23,
   "metadata": {},
   "outputs": [
    {
     "name": "stdout",
     "output_type": "stream",
     "text": [
      "1875/1875 [==============================] - 3s 1ms/step - loss: 0.0502 - accuracy: 0.9861\n",
      "[0.05024096742272377, 0.9860666394233704]\n",
      "157/157 [==============================] - 0s 1ms/step - loss: 0.0775 - accuracy: 0.9784\n",
      "[0.07750502228736877, 0.9783999919891357]\n"
     ]
    }
   ],
   "source": [
    "print(model.evaluate(x = x_train, y = y_train))\n",
    "print(model.evaluate(x = x_val, y = y_val))"
   ]
  },
  {
   "cell_type": "code",
   "execution_count": 24,
   "metadata": {},
   "outputs": [
    {
     "name": "stdout",
     "output_type": "stream",
     "text": [
      "157/157 [==============================] - 0s 1ms/step - loss: 0.0459 - accuracy: 0.9872\n",
      "[0.045939572155475616, 0.9872000217437744]\n"
     ]
    }
   ],
   "source": [
    "resultAct = model.evaluate(x = x_test, y = y_test)\n",
    "print(resultAct)"
   ]
  },
  {
   "cell_type": "code",
   "execution_count": 25,
   "metadata": {},
   "outputs": [
    {
     "data": {
      "text/html": [
       "<div>\n",
       "<style scoped>\n",
       "    .dataframe tbody tr th:only-of-type {\n",
       "        vertical-align: middle;\n",
       "    }\n",
       "\n",
       "    .dataframe tbody tr th {\n",
       "        vertical-align: top;\n",
       "    }\n",
       "\n",
       "    .dataframe thead th {\n",
       "        text-align: right;\n",
       "    }\n",
       "</style>\n",
       "<table border=\"1\" class=\"dataframe\">\n",
       "  <thead>\n",
       "    <tr style=\"text-align: right;\">\n",
       "      <th></th>\n",
       "      <th>Model_name</th>\n",
       "      <th>Description</th>\n",
       "      <th>Loss</th>\n",
       "      <th>Accuracy</th>\n",
       "    </tr>\n",
       "  </thead>\n",
       "  <tbody>\n",
       "    <tr>\n",
       "      <th>0</th>\n",
       "      <td>A</td>\n",
       "      <td>Similar to LeNet</td>\n",
       "      <td>0.049613</td>\n",
       "      <td>0.9882</td>\n",
       "    </tr>\n",
       "    <tr>\n",
       "      <th>1</th>\n",
       "      <td>B</td>\n",
       "      <td>Similar to LeNet including dropout at the fina...</td>\n",
       "      <td>0.076792</td>\n",
       "      <td>0.9776</td>\n",
       "    </tr>\n",
       "    <tr>\n",
       "      <th>2</th>\n",
       "      <td>C</td>\n",
       "      <td>Including local responde normalization in the ...</td>\n",
       "      <td>0.045940</td>\n",
       "      <td>0.9872</td>\n",
       "    </tr>\n",
       "  </tbody>\n",
       "</table>\n",
       "</div>"
      ],
      "text/plain": [
       "  Model_name                                        Description      Loss  \\\n",
       "0          A                                   Similar to LeNet  0.049613   \n",
       "1          B  Similar to LeNet including dropout at the fina...  0.076792   \n",
       "2          C  Including local responde normalization in the ...  0.045940   \n",
       "\n",
       "   Accuracy  \n",
       "0    0.9882  \n",
       "1    0.9776  \n",
       "2    0.9872  "
      ]
     },
     "execution_count": 25,
     "metadata": {},
     "output_type": "execute_result"
    }
   ],
   "source": [
    "resultAct.insert(0,'C')\n",
    "resultAct.insert(1,'Including local responde normalization in the initial layers.')\n",
    "dfResults = dfResults.append(\n",
    "    pd.DataFrame(columns = colResults, data=[resultAct]),\n",
    "    ignore_index=True)\n",
    "dfResults"
   ]
  },
  {
   "cell_type": "markdown",
   "metadata": {},
   "source": [
    "### d) Going deeper\n",
    "Including more convolutional layers with local response normalization"
   ]
  },
  {
   "cell_type": "code",
   "execution_count": 26,
   "metadata": {},
   "outputs": [
    {
     "name": "stdout",
     "output_type": "stream",
     "text": [
      "Model: \"functional_7\"\n",
      "_________________________________________________________________\n",
      "Layer (type)                 Output Shape              Param #   \n",
      "=================================================================\n",
      "input_4 (InputLayer)         [(None, 28, 28, 1)]       0         \n",
      "_________________________________________________________________\n",
      "conv2d_15 (Conv2D)           (None, 14, 14, 8)         208       \n",
      "_________________________________________________________________\n",
      "conv2d_16 (Conv2D)           (None, 14, 14, 16)        3216      \n",
      "_________________________________________________________________\n",
      "average_pooling2d_6 (Average (None, 7, 7, 16)          0         \n",
      "_________________________________________________________________\n",
      "lambda_2 (Lambda)            (None, 7, 7, 16)          0         \n",
      "_________________________________________________________________\n",
      "conv2d_17 (Conv2D)           (None, 7, 7, 32)          4640      \n",
      "_________________________________________________________________\n",
      "conv2d_18 (Conv2D)           (None, 7, 7, 32)          9248      \n",
      "_________________________________________________________________\n",
      "average_pooling2d_7 (Average (None, 3, 3, 32)          0         \n",
      "_________________________________________________________________\n",
      "lambda_3 (Lambda)            (None, 3, 3, 32)          0         \n",
      "_________________________________________________________________\n",
      "conv2d_19 (Conv2D)           (None, 3, 3, 64)          8256      \n",
      "_________________________________________________________________\n",
      "conv2d_20 (Conv2D)           (None, 3, 3, 64)          16448     \n",
      "_________________________________________________________________\n",
      "conv2d_21 (Conv2D)           (None, 1, 1, 128)         73856     \n",
      "_________________________________________________________________\n",
      "conv2d_22 (Conv2D)           (None, 1, 1, 32)          4128      \n",
      "_________________________________________________________________\n",
      "flatten_3 (Flatten)          (None, 32)                0         \n",
      "_________________________________________________________________\n",
      "dense_3 (Dense)              (None, 10)                330       \n",
      "=================================================================\n",
      "Total params: 120,330\n",
      "Trainable params: 120,330\n",
      "Non-trainable params: 0\n",
      "_________________________________________________________________\n",
      "None\n"
     ]
    }
   ],
   "source": [
    "modelName = 'D'\n",
    "\n",
    "inputs = tf.keras.Input(shape = (28,28,1))\n",
    "x = tf.keras.layers.Conv2D(filters = 8, kernel_size = 5, strides = 2, padding = \"same\", activation = \"relu\")(inputs)\n",
    "x = tf.keras.layers.Conv2D(filters = 16, kernel_size = 5, strides = 1, padding = \"same\", activation = \"relu\")(x)\n",
    "x = tf.keras.layers.AveragePooling2D(pool_size = 2, strides = 2, padding = \"valid\")(x)\n",
    "x = tf.keras.layers.Lambda(lambda x: tf.nn.local_response_normalization(x, depth_radius=2, bias=1, alpha=0.00002, beta=0.75))(x)\n",
    "x = tf.keras.layers.Conv2D(filters = 32, kernel_size = 3, strides = 1, padding = \"same\", activation = \"relu\")(x)\n",
    "x = tf.keras.layers.Conv2D(filters = 32, kernel_size = 3, strides = 1, padding = \"same\", activation = \"relu\")(x)\n",
    "x = tf.keras.layers.AveragePooling2D(pool_size = 3, strides = 2, padding = \"valid\")(x)\n",
    "x = tf.keras.layers.Lambda(lambda x: tf.nn.local_response_normalization(x, depth_radius=2, bias=1, alpha=0.00002, beta=0.75))(x)\n",
    "x = tf.keras.layers.Conv2D(filters = 64, kernel_size = 2, strides = 1, padding = \"same\", activation = \"relu\")(x)\n",
    "x = tf.keras.layers.Conv2D(filters = 64, kernel_size = 2, strides = 1, padding = \"same\", activation = \"relu\")(x)\n",
    "x = tf.keras.layers.Conv2D(filters = 128, kernel_size = 3, strides = 1, padding = \"valid\", activation = \"relu\")(x)\n",
    "x = tf.keras.layers.Conv2D(filters = 32, kernel_size = 1, strides = 1, padding = \"valid\", activation = \"relu\")(x)\n",
    "x = tf.keras.layers.Flatten()(x)\n",
    "outputs = tf.keras.layers.Dense(units = 10, activation = \"softmax\")(x)\n",
    "\n",
    "model = tf.keras.Model(inputs = inputs, outputs = outputs)\n",
    "print(model.summary())"
   ]
  },
  {
   "cell_type": "code",
   "execution_count": 27,
   "metadata": {},
   "outputs": [
    {
     "name": "stdout",
     "output_type": "stream",
     "text": [
      "Epoch 1/100\n",
      "   2/1875 [..............................] - ETA: 1:18 - loss: 2.7313 - accuracy: 0.0781WARNING:tensorflow:Callbacks method `on_train_batch_end` is slow compared to the batch time (batch time: 0.0065s vs `on_train_batch_end` time: 0.0766s). Check your callbacks.\n",
      "1875/1875 [==============================] - 6s 3ms/step - loss: 0.2346 - accuracy: 0.9243 - val_loss: 0.1001 - val_accuracy: 0.9680\n",
      "Epoch 2/100\n",
      "1875/1875 [==============================] - 6s 3ms/step - loss: 0.0798 - accuracy: 0.9776 - val_loss: 0.0725 - val_accuracy: 0.9784\n",
      "Epoch 3/100\n",
      "1875/1875 [==============================] - 6s 3ms/step - loss: 0.0691 - accuracy: 0.9821 - val_loss: 0.0903 - val_accuracy: 0.9768\n",
      "Epoch 4/100\n",
      "1875/1875 [==============================] - 6s 3ms/step - loss: 0.0687 - accuracy: 0.9833 - val_loss: 0.0735 - val_accuracy: 0.9800\n",
      "Epoch 5/100\n",
      "1875/1875 [==============================] - 6s 3ms/step - loss: 0.0708 - accuracy: 0.9835 - val_loss: 0.1202 - val_accuracy: 0.9756\n",
      "Epoch 6/100\n",
      "1875/1875 [==============================] - 6s 3ms/step - loss: 0.0758 - accuracy: 0.9830 - val_loss: 0.0913 - val_accuracy: 0.9816\n",
      "Epoch 7/100\n",
      "1875/1875 [==============================] - 6s 3ms/step - loss: 0.0779 - accuracy: 0.9836 - val_loss: 0.3183 - val_accuracy: 0.9740\n",
      "Epoch 8/100\n",
      "1875/1875 [==============================] - 6s 3ms/step - loss: 0.0941 - accuracy: 0.9836 - val_loss: 0.1161 - val_accuracy: 0.9776\n",
      "Epoch 9/100\n",
      "1875/1875 [==============================] - 6s 3ms/step - loss: 0.0950 - accuracy: 0.9818 - val_loss: 0.2049 - val_accuracy: 0.9652\n",
      "Epoch 10/100\n",
      "1875/1875 [==============================] - 7s 3ms/step - loss: 0.1004 - accuracy: 0.9810 - val_loss: 0.1312 - val_accuracy: 0.9778\n",
      "Epoch 11/100\n",
      "1875/1875 [==============================] - 7s 4ms/step - loss: 0.1131 - accuracy: 0.9815 - val_loss: 0.1831 - val_accuracy: 0.9742\n",
      "Epoch 12/100\n",
      "1875/1875 [==============================] - 7s 4ms/step - loss: 0.1139 - accuracy: 0.9796 - val_loss: 0.1141 - val_accuracy: 0.9778\n"
     ]
    },
    {
     "data": {
      "text/plain": [
       "<tensorflow.python.keras.callbacks.History at 0x7fb555d45e50>"
      ]
     },
     "execution_count": 27,
     "metadata": {},
     "output_type": "execute_result"
    }
   ],
   "source": [
    "# =========================\n",
    "# Compile model\n",
    "# =========================\n",
    "model.compile(\n",
    "    loss = \"sparse_categorical_crossentropy\",\n",
    "    metrics = ['accuracy'])\n",
    "# =========================\n",
    "# Training Parameters\n",
    "# =========================\n",
    "epochs = 100\n",
    "patience = 10\n",
    "# =========================\n",
    "# Callbacks\n",
    "# =========================\n",
    "tb_cb = tf.keras.callbacks.TensorBoard(\"./Results_tensorboard/Ex_14_9/\" + time.strftime(f\"model_{modelName}_%Y_%m_%d_%H_%M_%S\"))\n",
    "es_cb = tf.keras.callbacks.EarlyStopping(patience= patience, restore_best_weights=True)\n",
    "# =========================\n",
    "# Training\n",
    "# =========================\n",
    "model.fit(\n",
    "    x= x_train,\n",
    "    y= y_train,\n",
    "    epochs= epochs,\n",
    "    callbacks= [tb_cb, es_cb],\n",
    "    validation_data= (x_val, y_val))"
   ]
  },
  {
   "cell_type": "code",
   "execution_count": 28,
   "metadata": {},
   "outputs": [
    {
     "name": "stdout",
     "output_type": "stream",
     "text": [
      "1875/1875 [==============================] - 3s 2ms/step - loss: 0.0455 - accuracy: 0.9865\n",
      "[0.04548601433634758, 0.9865166544914246]\n",
      "157/157 [==============================] - 0s 2ms/step - loss: 0.0725 - accuracy: 0.9784\n",
      "[0.07245191186666489, 0.9783999919891357]\n",
      "157/157 [==============================] - 0s 2ms/step - loss: 0.0356 - accuracy: 0.9902\n",
      "[0.03557169437408447, 0.9901999831199646]\n"
     ]
    }
   ],
   "source": [
    "print(model.evaluate(x = x_train, y = y_train))\n",
    "print(model.evaluate(x = x_val, y = y_val))\n",
    "resultAct = model.evaluate(x = x_test, y = y_test)\n",
    "print(resultAct)"
   ]
  },
  {
   "cell_type": "code",
   "execution_count": 29,
   "metadata": {},
   "outputs": [
    {
     "data": {
      "text/html": [
       "<div>\n",
       "<style scoped>\n",
       "    .dataframe tbody tr th:only-of-type {\n",
       "        vertical-align: middle;\n",
       "    }\n",
       "\n",
       "    .dataframe tbody tr th {\n",
       "        vertical-align: top;\n",
       "    }\n",
       "\n",
       "    .dataframe thead th {\n",
       "        text-align: right;\n",
       "    }\n",
       "</style>\n",
       "<table border=\"1\" class=\"dataframe\">\n",
       "  <thead>\n",
       "    <tr style=\"text-align: right;\">\n",
       "      <th></th>\n",
       "      <th>Model_name</th>\n",
       "      <th>Description</th>\n",
       "      <th>Loss</th>\n",
       "      <th>Accuracy</th>\n",
       "    </tr>\n",
       "  </thead>\n",
       "  <tbody>\n",
       "    <tr>\n",
       "      <th>0</th>\n",
       "      <td>A</td>\n",
       "      <td>Similar to LeNet</td>\n",
       "      <td>0.049613</td>\n",
       "      <td>0.9882</td>\n",
       "    </tr>\n",
       "    <tr>\n",
       "      <th>1</th>\n",
       "      <td>B</td>\n",
       "      <td>Similar to LeNet including dropout at the fina...</td>\n",
       "      <td>0.076792</td>\n",
       "      <td>0.9776</td>\n",
       "    </tr>\n",
       "    <tr>\n",
       "      <th>2</th>\n",
       "      <td>C</td>\n",
       "      <td>Including local responde normalization in the ...</td>\n",
       "      <td>0.045940</td>\n",
       "      <td>0.9872</td>\n",
       "    </tr>\n",
       "    <tr>\n",
       "      <th>3</th>\n",
       "      <td>D</td>\n",
       "      <td>Including more layers in the LeNet architecture.</td>\n",
       "      <td>0.035572</td>\n",
       "      <td>0.9902</td>\n",
       "    </tr>\n",
       "  </tbody>\n",
       "</table>\n",
       "</div>"
      ],
      "text/plain": [
       "  Model_name                                        Description      Loss  \\\n",
       "0          A                                   Similar to LeNet  0.049613   \n",
       "1          B  Similar to LeNet including dropout at the fina...  0.076792   \n",
       "2          C  Including local responde normalization in the ...  0.045940   \n",
       "3          D   Including more layers in the LeNet architecture.  0.035572   \n",
       "\n",
       "   Accuracy  \n",
       "0    0.9882  \n",
       "1    0.9776  \n",
       "2    0.9872  \n",
       "3    0.9902  "
      ]
     },
     "execution_count": 29,
     "metadata": {},
     "output_type": "execute_result"
    }
   ],
   "source": [
    "resultAct.insert(0,modelName)\n",
    "resultAct.insert(1,'Including more layers in the LeNet architecture.')\n",
    "dfResults = dfResults.append(\n",
    "    pd.DataFrame(columns = colResults, data=[resultAct]),\n",
    "    ignore_index=True)\n",
    "dfResults"
   ]
  },
  {
   "cell_type": "markdown",
   "metadata": {},
   "source": [
    "### e) Including inception blocks"
   ]
  },
  {
   "cell_type": "code",
   "execution_count": null,
   "metadata": {},
   "outputs": [],
   "source": [
    "class inceptionLayer(tf.keras.layers.Layer):\n",
    "    def __init__(self, filters = [8, 16, 4, 4, 12, 2], kw)"
   ]
  }
 ],
 "metadata": {
  "kernelspec": {
   "display_name": "Python (Estudio env)",
   "language": "python",
   "name": "estudio"
  },
  "language_info": {
   "codemirror_mode": {
    "name": "ipython",
    "version": 3
   },
   "file_extension": ".py",
   "mimetype": "text/x-python",
   "name": "python",
   "nbconvert_exporter": "python",
   "pygments_lexer": "ipython3",
   "version": "3.8.3"
  }
 },
 "nbformat": 4,
 "nbformat_minor": 4
}
