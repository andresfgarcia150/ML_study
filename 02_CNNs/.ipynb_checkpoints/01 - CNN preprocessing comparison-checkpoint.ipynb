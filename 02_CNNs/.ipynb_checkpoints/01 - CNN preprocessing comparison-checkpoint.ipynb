{
 "cells": [
  {
   "cell_type": "markdown",
   "metadata": {},
   "source": [
    "# 01 - CNN preprocessing comparison\n",
    "\n",
    "__Andrés Felipe García Albarracín <br>\n",
    "May 7, 2021__"
   ]
  },
  {
   "cell_type": "code",
   "execution_count": 1,
   "metadata": {},
   "outputs": [],
   "source": [
    "import tensorflow as tf\n",
    "import os\n",
    "from shutil import copyfile"
   ]
  },
  {
   "cell_type": "markdown",
   "metadata": {},
   "source": [
    "## 1. Order data in the training / validation folders"
   ]
  },
  {
   "cell_type": "code",
   "execution_count": 4,
   "metadata": {},
   "outputs": [],
   "source": [
    "# Run the following the first time\n",
    "\n",
    "trainingFolder = \"../Datasets/flowers/training\"\n",
    "validationFolder = \"../Datasets/flowers/validation\"\n",
    "firstTime = not(os.path.exists(trainingFolder) and os.path.exists(validationFolder))\n",
    "\n",
    "def safeCreateFolder(folderPath):\n",
    "    \"\"\"\n",
    "    Creates a folder if it does not exist\n",
    "    \"\"\"\n",
    "    if not os.path.exists(folderPath):\n",
    "        os.mkdir(folderPath)\n",
    "\n",
    "if firstTime:\n",
    "    # Unzip files\n",
    "    from zipfile import ZipFile\n",
    "\n",
    "    with ZipFile(os.path.join(\"../Datasets/archive.zip\"), 'r') as zipObj:\n",
    "        zipObj.extractall(os.path.join(\"../Datasets/flowers\"))\n",
    "\n",
    "    # Create folders\n",
    "    safeCreateFolder(trainingFolder)\n",
    "    safeCreateFolder(validationFolder)\n",
    "    \n",
    "    # Split function\n",
    "    def splitFiles(sourcePath, trainingPath, validationPath, splitSize):\n",
    "        \"\"\"\n",
    "        Function that splits the files from sourcePath in trainingPath and\n",
    "        validationPath, according to the splitSize\n",
    "        \"\"\"\n",
    "        folderList = os.listdir(sourcePath)\n",
    "        for folder in folderList:\n",
    "            safeCreateFolder(os.path.join(trainingPath,folder))\n",
    "            safeCreateFolder(os.path.join(validationPath,folder))\n",
    "            fileList = os.listdir(os.path.join(sourcePath, folder))\n",
    "            for n, file in enumerate(fileList):\n",
    "                if n < splitSize * len(fileList):\n",
    "                    copyfile(\n",
    "                        os.path.join(sourcePath, folder, file),\n",
    "                        os.path.join(trainingPath, folder, file)\n",
    "                    )\n",
    "                else:\n",
    "                    copyfile(\n",
    "                        os.path.join(sourcePath, folder, file),\n",
    "                        os.path.join(validationPath, folder, file)\n",
    "                )\n",
    "    \n",
    "    # Call the functions\n",
    "    splitRatio = 0.7\n",
    "    splitFiles(\n",
    "        sourcePath = \"../Datasets/flowers/flowers\",\n",
    "        trainingPath = trainingFolder,\n",
    "        validationPath = validationFolder,\n",
    "        splitSize = splitRatio\n",
    "    )"
   ]
  },
  {
   "cell_type": "markdown",
   "metadata": {},
   "source": [
    "## 2. Define the model to use"
   ]
  },
  {
   "cell_type": "code",
   "execution_count": 5,
   "metadata": {},
   "outputs": [],
   "source": [
    "def createAndCompile(numClases):\n",
    "    model = tf.keras.Sequential([\n",
    "        tf.keras.layers.Conv2D(64, (3,3), activation = 'relu'),\n",
    "        tf.keras.layers.MaxPool2D(2,2),\n",
    "        tf.keras.layers.Conv2D(128, (3,3), activation = 'relu'),\n",
    "        tf.keras.layers.MaxPool2D(2,2),\n",
    "        tf.keras.layers.Flatten(),\n",
    "        tf.keras.layers.Dense(1024, activation = 'relu'),\n",
    "        tf.keras.layers.Dropout(0.2),\n",
    "        tf.keras.layers.Dense(64, activation = 'relu'),\n",
    "        tf.keras.layers.Dense(numClases, activation = 'softmax')\n",
    "    ])\n",
    "    model.compile(\n",
    "        optimizer = tf.keras.optimizers.Adam(),\n",
    "        loss = tf.keras.losses.CategoricalCrossentropy(),\n",
    "        metrics = ['accuracy']\n",
    "    )\n",
    "    return model\n"
   ]
  },
  {
   "cell_type": "code",
   "execution_count": 6,
   "metadata": {},
   "outputs": [
    {
     "ename": "ModuleNotFoundError",
     "evalue": "No module named 'guppy'",
     "output_type": "error",
     "traceback": [
      "\u001b[0;31m---------------------------------------------------------------------------\u001b[0m",
      "\u001b[0;31mModuleNotFoundError\u001b[0m                       Traceback (most recent call last)",
      "\u001b[0;32m<ipython-input-6-443030e2a462>\u001b[0m in \u001b[0;36m<module>\u001b[0;34m\u001b[0m\n\u001b[0;32m----> 1\u001b[0;31m \u001b[0;32mfrom\u001b[0m \u001b[0mguppy\u001b[0m \u001b[0;32mimport\u001b[0m \u001b[0mhpy\u001b[0m\u001b[0;34m;\u001b[0m \u001b[0mh\u001b[0m\u001b[0;34m=\u001b[0m\u001b[0mhpy\u001b[0m\u001b[0;34m(\u001b[0m\u001b[0;34m)\u001b[0m\u001b[0;34m\u001b[0m\u001b[0;34m\u001b[0m\u001b[0m\n\u001b[0m\u001b[1;32m      2\u001b[0m \u001b[0mh\u001b[0m\u001b[0;34m.\u001b[0m\u001b[0mheap\u001b[0m\u001b[0;34m(\u001b[0m\u001b[0;34m)\u001b[0m\u001b[0;34m\u001b[0m\u001b[0;34m\u001b[0m\u001b[0m\n",
      "\u001b[0;31mModuleNotFoundError\u001b[0m: No module named 'guppy'"
     ]
    }
   ],
   "source": []
  }
 ],
 "metadata": {
  "kernelspec": {
   "display_name": "Python (Estudio env)",
   "language": "python",
   "name": "estudio"
  },
  "language_info": {
   "codemirror_mode": {
    "name": "ipython",
    "version": 3
   },
   "file_extension": ".py",
   "mimetype": "text/x-python",
   "name": "python",
   "nbconvert_exporter": "python",
   "pygments_lexer": "ipython3",
   "version": "3.8.3"
  }
 },
 "nbformat": 4,
 "nbformat_minor": 4
}
