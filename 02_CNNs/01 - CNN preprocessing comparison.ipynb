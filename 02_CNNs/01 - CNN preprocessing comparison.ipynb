{
 "cells": [
  {
   "cell_type": "markdown",
   "metadata": {},
   "source": [
    "# 01 - CNN preprocessing comparison\n",
    "\n",
    "__Andrés Felipe García Albarracín <br>\n",
    "May 7, 2021__"
   ]
  },
  {
   "cell_type": "code",
   "execution_count": 1,
   "metadata": {},
   "outputs": [],
   "source": [
    "import tensorflow as tf\n",
    "import os\n",
    "from shutil import copyfile\n",
    "import pandas as pd\n",
    "import time\n",
    "import math"
   ]
  },
  {
   "cell_type": "markdown",
   "metadata": {},
   "source": [
    "## 1. Order data in the training / validation folders"
   ]
  },
  {
   "cell_type": "code",
   "execution_count": 2,
   "metadata": {},
   "outputs": [],
   "source": [
    "# Run the following the first time\n",
    "\n",
    "trainingFolder = \"../Datasets/flowers/training\"\n",
    "validationFolder = \"../Datasets/flowers/validation\"\n",
    "firstTime = not(os.path.exists(trainingFolder) and os.path.exists(validationFolder))\n",
    "\n",
    "def safeCreateFolder(folderPath):\n",
    "    \"\"\"\n",
    "    Creates a folder if it does not exist\n",
    "    \"\"\"\n",
    "    if not os.path.exists(folderPath):\n",
    "        os.mkdir(folderPath)\n",
    "\n",
    "if firstTime:\n",
    "    # Unzip files\n",
    "    from zipfile import ZipFile\n",
    "\n",
    "    with ZipFile(os.path.join(\"../Datasets/archive.zip\"), 'r') as zipObj:\n",
    "        zipObj.extractall(os.path.join(\"../Datasets/flowers\"))\n",
    "\n",
    "    # Create folders\n",
    "    safeCreateFolder(trainingFolder)\n",
    "    safeCreateFolder(validationFolder)\n",
    "    \n",
    "    # Split function\n",
    "    def splitFiles(sourcePath, trainingPath, validationPath, splitSize):\n",
    "        \"\"\"\n",
    "        Function that splits the files from sourcePath in trainingPath and\n",
    "        validationPath, according to the splitSize\n",
    "        \"\"\"\n",
    "        folderList = os.listdir(sourcePath)\n",
    "        for folder in folderList:\n",
    "            safeCreateFolder(os.path.join(trainingPath,folder))\n",
    "            safeCreateFolder(os.path.join(validationPath,folder))\n",
    "            fileList = os.listdir(os.path.join(sourcePath, folder))\n",
    "            for n, file in enumerate(fileList):\n",
    "                if n < splitSize * len(fileList):\n",
    "                    copyfile(\n",
    "                        os.path.join(sourcePath, folder, file),\n",
    "                        os.path.join(trainingPath, folder, file)\n",
    "                    )\n",
    "                else:\n",
    "                    copyfile(\n",
    "                        os.path.join(sourcePath, folder, file),\n",
    "                        os.path.join(validationPath, folder, file)\n",
    "                )\n",
    "    \n",
    "    # Call the functions\n",
    "    splitRatio = 0.7\n",
    "    splitFiles(\n",
    "        sourcePath = \"../Datasets/flowers/flowers\",\n",
    "        trainingPath = trainingFolder,\n",
    "        validationPath = validationFolder,\n",
    "        splitSize = splitRatio\n",
    "    )"
   ]
  },
  {
   "cell_type": "markdown",
   "metadata": {},
   "source": [
    "## 2. Define the model to use"
   ]
  },
  {
   "cell_type": "code",
   "execution_count": 3,
   "metadata": {},
   "outputs": [],
   "source": [
    "def createAndCompile(numClases):\n",
    "    model = tf.keras.Sequential([\n",
    "        tf.keras.layers.Conv2D(16, (3,3), activation = 'relu'),\n",
    "        tf.keras.layers.MaxPool2D(2,2),\n",
    "        tf.keras.layers.Conv2D(32, (3,3), activation = 'relu'),\n",
    "        tf.keras.layers.MaxPool2D(2,2),\n",
    "        tf.keras.layers.Flatten(),\n",
    "        tf.keras.layers.Dropout(0.4),\n",
    "        tf.keras.layers.Dense(256, activation = 'relu'),\n",
    "        tf.keras.layers.Dropout(0.4),\n",
    "        tf.keras.layers.Dense(64, activation = 'relu'),\n",
    "        tf.keras.layers.Dropout(0.4),\n",
    "        tf.keras.layers.Dense(numClases, activation = 'softmax')\n",
    "    ])\n",
    "    #run_opts = tf.RunOptions(report_tensor_allocations_upon_oom = True)\n",
    "    model.compile(\n",
    "        optimizer = tf.keras.optimizers.Adam(),\n",
    "        loss = tf.keras.losses.CategoricalCrossentropy(),\n",
    "        metrics = ['accuracy']\n",
    "    #    options = run_opts\n",
    "    )\n",
    "    return model\n"
   ]
  },
  {
   "cell_type": "code",
   "execution_count": 4,
   "metadata": {},
   "outputs": [],
   "source": [
    "numClases = len(os.listdir(trainingFolder))"
   ]
  },
  {
   "source": [
    "## 3. Strategies"
   ],
   "cell_type": "markdown",
   "metadata": {}
  },
  {
   "cell_type": "code",
   "execution_count": 5,
   "metadata": {},
   "outputs": [],
   "source": [
    "dfResults = pd.DataFrame(columns=['Experiment', 'Training time', 'Evaluation time'])"
   ]
  },
  {
   "source": [
    "### 3.1 Image Data Generator"
   ],
   "cell_type": "markdown",
   "metadata": {}
  },
  {
   "cell_type": "code",
   "execution_count": 6,
   "metadata": {},
   "outputs": [
    {
     "output_type": "stream",
     "name": "stdout",
     "text": [
      "Found 3028 images belonging to 5 classes.\nFound 1295 images belonging to 5 classes.\n"
     ]
    }
   ],
   "source": [
    "batch_size = 8\n",
    "trainDataGen = tf.keras.preprocessing.image.ImageDataGenerator(\n",
    "    rescale=1./255\n",
    ")\n",
    "train_generator = trainDataGen.flow_from_directory(\n",
    "    trainingFolder,\n",
    "    batch_size = batch_size,\n",
    "    target_size = (150,150),\n",
    "    class_mode = 'categorical'\n",
    ")\n",
    "validationDataGen = tf.keras.preprocessing.image.ImageDataGenerator(\n",
    "    rescale=1./255\n",
    ")\n",
    "validation_generator = validationDataGen.flow_from_directory(\n",
    "    validationFolder,\n",
    "    batch_size = batch_size,\n",
    "    target_size = (150,150),\n",
    "    class_mode = 'categorical'\n",
    ")"
   ]
  },
  {
   "cell_type": "code",
   "execution_count": 7,
   "metadata": {},
   "outputs": [],
   "source": [
    "model1 = createAndCompile(numClases)"
   ]
  },
  {
   "cell_type": "code",
   "execution_count": 8,
   "metadata": {},
   "outputs": [
    {
     "output_type": "stream",
     "name": "stdout",
     "text": [
      "Epoch 1/10\n",
      "379/379 [==============================] - 8s 22ms/step - loss: 1.4629 - accuracy: 0.3778\n",
      "Epoch 2/10\n",
      "379/379 [==============================] - 8s 22ms/step - loss: 1.2027 - accuracy: 0.4937\n",
      "Epoch 3/10\n",
      "379/379 [==============================] - 9s 23ms/step - loss: 1.0290 - accuracy: 0.5931\n",
      "Epoch 4/10\n",
      "379/379 [==============================] - 9s 23ms/step - loss: 0.8245 - accuracy: 0.6899\n",
      "Epoch 5/10\n",
      "379/379 [==============================] - 9s 23ms/step - loss: 0.5955 - accuracy: 0.7758\n",
      "Epoch 6/10\n",
      "379/379 [==============================] - 9s 24ms/step - loss: 0.4472 - accuracy: 0.8372\n",
      "Epoch 7/10\n",
      "379/379 [==============================] - 9s 23ms/step - loss: 0.3134 - accuracy: 0.8923\n",
      "Epoch 8/10\n",
      "379/379 [==============================] - 9s 24ms/step - loss: 0.2430 - accuracy: 0.9181\n",
      "Epoch 9/10\n",
      "379/379 [==============================] - 9s 24ms/step - loss: 0.1795 - accuracy: 0.9402\n",
      "Epoch 10/10\n",
      "379/379 [==============================] - 10s 25ms/step - loss: 0.1547 - accuracy: 0.9518\n",
      "162/162 [==============================] - 4s 26ms/step - loss: 1.6574 - accuracy: 0.6069\n"
     ]
    }
   ],
   "source": [
    "start = time.time()\n",
    "model1.fit(\n",
    "    train_generator,\n",
    "    epochs = 10,\n",
    "    steps_per_epoch = math.ceil(train_generator.samples/batch_size)\n",
    ")\n",
    "trainTime = time.time() - start\n",
    "start = time.time()\n",
    "model1.evaluate(\n",
    "    validation_generator,\n",
    "    steps = math.ceil(validation_generator.samples/batch_size)\n",
    ")\n",
    "evalTime = time.time() - start"
   ]
  },
  {
   "cell_type": "code",
   "execution_count": 9,
   "metadata": {},
   "outputs": [],
   "source": [
    "dfResults = dfResults.append({\n",
    "    'Experiment': '1. ImageDataGenerator',\n",
    "    'Training time': trainTime,\n",
    "    'Evaluation time': evalTime},\n",
    "    ignore_index=True)"
   ]
  },
  {
   "cell_type": "code",
   "execution_count": 10,
   "metadata": {},
   "outputs": [
    {
     "output_type": "execute_result",
     "data": {
      "text/plain": [
       "              Experiment  Training time  Evaluation time\n",
       "0  1. ImageDataGenerator      90.574544         4.466817"
      ],
      "text/html": "<div>\n<style scoped>\n    .dataframe tbody tr th:only-of-type {\n        vertical-align: middle;\n    }\n\n    .dataframe tbody tr th {\n        vertical-align: top;\n    }\n\n    .dataframe thead th {\n        text-align: right;\n    }\n</style>\n<table border=\"1\" class=\"dataframe\">\n  <thead>\n    <tr style=\"text-align: right;\">\n      <th></th>\n      <th>Experiment</th>\n      <th>Training time</th>\n      <th>Evaluation time</th>\n    </tr>\n  </thead>\n  <tbody>\n    <tr>\n      <th>0</th>\n      <td>1. ImageDataGenerator</td>\n      <td>90.574544</td>\n      <td>4.466817</td>\n    </tr>\n  </tbody>\n</table>\n</div>"
     },
     "metadata": {},
     "execution_count": 10
    }
   ],
   "source": [
    "dfResults"
   ]
  }
 ],
 "metadata": {
  "kernelspec": {
   "name": "python383jvsc74a57bd0dd7913d96f89bc4c6f53cb36e909686a5c1a87da0d862750c59fa44bf3eebf66",
   "display_name": "Python 3.8.3 64-bit ('estudio': conda)"
  },
  "language_info": {
   "codemirror_mode": {
    "name": "ipython",
    "version": 3
   },
   "file_extension": ".py",
   "mimetype": "text/x-python",
   "name": "python",
   "nbconvert_exporter": "python",
   "pygments_lexer": "ipython3",
   "version": "3.8.3"
  }
 },
 "nbformat": 4,
 "nbformat_minor": 4
}